{
 "cells": [
  {
   "cell_type": "code",
   "execution_count": 8,
   "metadata": {},
   "outputs": [
    {
     "name": "stdout",
     "output_type": "stream",
     "text": [
      "inee\n",
      "eering_mathem\n",
      "aet\n",
      "ern_ahm\n",
      "23\n"
     ]
    }
   ],
   "source": [
    "a= \"engineering_mathematics\"\n",
    "print(a[3:7])\n",
    "print(a[-18:-5])\n",
    "print(a[13:-1:3])\n",
    "print(a[-18:-5:2])\n",
    "print(len(a))"
   ]
  },
  {
   "cell_type": "code",
   "execution_count": 15,
   "metadata": {},
   "outputs": [
    {
     "name": "stdout",
     "output_type": "stream",
     "text": [
      "harshjoyita\n"
     ]
    }
   ],
   "source": [
    "a=\"harsh\"\n",
    "b=\"joyita\"\n",
    "c=a+b\n",
    "print(c)"
   ]
  },
  {
   "cell_type": "code",
   "execution_count": 24,
   "metadata": {},
   "outputs": [
    {
     "name": "stdout",
     "output_type": "stream",
     "text": [
      "3\n",
      "2\n",
      "ennineerinn\n",
      "1\n",
      "3\n",
      "ENGINEERING\n",
      "Engineering\n"
     ]
    }
   ],
   "source": [
    "a=\"engineering\"\n",
    "b= a.count(\"e\")\n",
    "print(b)\n",
    "c=a.count(\"i\")\n",
    "print(c)\n",
    "c=a.replace(\"g\",\"n\")\n",
    "print(c)\n",
    "print(a.find(\"n\"))\n",
    "print(a.find(\"i\"))\n",
    "print(a.swapcase())\n",
    "print(a.capitalize())\n",
    "print(a.)"
   ]
  },
  {
   "cell_type": "code",
   "execution_count": 25,
   "metadata": {},
   "outputs": [
    {
     "name": "stdout",
     "output_type": "stream",
     "text": [
      "joyitajoyitajoyitajoyitajoyita\n"
     ]
    }
   ],
   "source": [
    "a=\"joyita\"\n",
    "b=a*5\n",
    "print(b)"
   ]
  },
  {
   "cell_type": "code",
   "execution_count": null,
   "metadata": {},
   "outputs": [],
   "source": []
  }
 ],
 "metadata": {
  "kernelspec": {
   "display_name": "Python 3",
   "language": "python",
   "name": "python3"
  },
  "language_info": {
   "codemirror_mode": {
    "name": "ipython",
    "version": 3
   },
   "file_extension": ".py",
   "mimetype": "text/x-python",
   "name": "python",
   "nbconvert_exporter": "python",
   "pygments_lexer": "ipython3",
   "version": "3.7.6"
  }
 },
 "nbformat": 4,
 "nbformat_minor": 4
}
